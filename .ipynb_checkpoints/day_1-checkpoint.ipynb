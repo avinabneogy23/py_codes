{
 "cells": [
  {
   "cell_type": "markdown",
   "id": "e46fe2fd-d1a0-4b92-a214-9492b91dfe10",
   "metadata": {},
   "source": [
    "## Question-1\n",
    "\n",
    "Write a program which will find all such numbers which are divisible by 7 but are not a multiple of 5, between 2000 and 3200 (both included).The numbers obtained should be printed in a comma-separated sequence on a single line."
   ]
  },
  {
   "cell_type": "code",
   "execution_count": 16,
   "id": "74b3f8d8-2bb7-4531-87a5-3c3d546ca395",
   "metadata": {},
   "outputs": [
    {
     "name": "stdout",
     "output_type": "stream",
     "text": [
      "[2002, 2009, 2016, 2023, 2037, 2044, 2051, 2058, 2072, 2079, 2086, 2093, 2107, 2114, 2121, 2128, 2142, 2149, 2156, 2163, 2177, 2184, 2191, 2198, 2212, 2219, 2226, 2233, 2247, 2254, 2261, 2268, 2282, 2289, 2296, 2303, 2317, 2324, 2331, 2338, 2352, 2359, 2366, 2373, 2387, 2394, 2401, 2408, 2422, 2429, 2436, 2443, 2457, 2464, 2471, 2478, 2492, 2499, 2506, 2513, 2527, 2534, 2541, 2548, 2562, 2569, 2576, 2583, 2597, 2604, 2611, 2618, 2632, 2639, 2646, 2653, 2667, 2674, 2681, 2688, 2702, 2709, 2716, 2723, 2737, 2744, 2751, 2758, 2772, 2779, 2786, 2793, 2807, 2814, 2821, 2828, 2842, 2849, 2856, 2863, 2877, 2884, 2891, 2898, 2912, 2919, 2926, 2933, 2947, 2954, 2961, 2968, 2982, 2989, 2996, 3003, 3017, 3024, 3031, 3038, 3052, 3059, 3066, 3073, 3087, 3094, 3101, 3108, 3122, 3129, 3136, 3143, 3157, 3164, 3171, 3178, 3192, 3199]\n"
     ]
    }
   ],
   "source": [
    "#method-1\n",
    "list =[]\n",
    "for num in range(2000,3201):\n",
    "    if((num % 7 == 0) and (num % 5 != 0)):\n",
    "        list.append(num)\n",
    "#The range function in python is exclusive of upper value in range so if you want a number between a and b use ranage(a,b+1)\n",
    "print(list)\n"
   ]
  },
  {
   "cell_type": "code",
   "execution_count": 17,
   "id": "82ca1fea-b58c-494f-b6df-a39635554063",
   "metadata": {},
   "outputs": [
    {
     "name": "stdout",
     "output_type": "stream",
     "text": [
      "2002,2009,2016,2023,2037,2044,2051,2058,2072,2079,2086,2093,2107,2114,2121,2128,2142,2149,2156,2163,2177,2184,2191,2198,2212,2219,2226,2233,2247,2254,2261,2268,2282,2289,2296,2303,2317,2324,2331,2338,2352,2359,2366,2373,2387,2394,2401,2408,2422,2429,2436,2443,2457,2464,2471,2478,2492,2499,2506,2513,2527,2534,2541,2548,2562,2569,2576,2583,2597,2604,2611,2618,2632,2639,2646,2653,2667,2674,2681,2688,2702,2709,2716,2723,2737,2744,2751,2758,2772,2779,2786,2793,2807,2814,2821,2828,2842,2849,2856,2863,2877,2884,2891,2898,2912,2919,2926,2933,2947,2954,2961,2968,2982,2989,2996,3003,3017,3024,3031,3038,3052,3059,3066,3073,3087,3094,3101,3108,3122,3129,3136,3143,3157,3164,3171,3178,3192,3199,"
     ]
    }
   ],
   "source": [
    "#method-2\n",
    "for num in range(2000,3201):\n",
    "    if((num % 7 == 0) and (num % 5 != 0)):\n",
    "        print(num,end=',')"
   ]
  },
  {
   "cell_type": "code",
   "execution_count": 18,
   "id": "1bd2e317-225b-4290-8f2c-22ac68c62cfb",
   "metadata": {},
   "outputs": [
    {
     "name": "stdout",
     "output_type": "stream",
     "text": [
      "2002,2009,2016,2023,2037,2044,2051,2058,2072,2079,2086,2093,2107,2114,2121,2128,2142,2149,2156,2163,2177,2184,2191,2198,2212,2219,2226,2233,2247,2254,2261,2268,2282,2289,2296,2303,2317,2324,2331,2338,2352,2359,2366,2373,2387,2394,2401,2408,2422,2429,2436,2443,2457,2464,2471,2478,2492,2499,2506,2513,2527,2534,2541,2548,2562,2569,2576,2583,2597,2604,2611,2618,2632,2639,2646,2653,2667,2674,2681,2688,2702,2709,2716,2723,2737,2744,2751,2758,2772,2779,2786,2793,2807,2814,2821,2828,2842,2849,2856,2863,2877,2884,2891,2898,2912,2919,2926,2933,2947,2954,2961,2968,2982,2989,2996,3003,3017,3024,3031,3038,3052,3059,3066,3073,3087,3094,3101,3108,3122,3129,3136,3143,3157,3164,3171,3178,3192,3199\n"
     ]
    }
   ],
   "source": [
    "#method 3\n",
    "print(*(num for num in range(2000,3201) if (num % 7 == 0) and (num % 5 != 0)),sep=',')\n",
    "\n",
    "#Key Benefits\n",
    "\n",
    "    #Memory Efficiency: Generator expressions generate values on demand rather than creating the entire collection at once, making them ideal for large datasets.\n",
    "\n",
    "    #Lazy Evaluation: Values are computed only when needed, not in advance.\n",
    "\n",
    "    #Performance: They're highly performant for sequential data processing\n"
   ]
  },
  {
   "cell_type": "markdown",
   "id": "62b47216-c1da-42ac-a747-247dfe543f92",
   "metadata": {},
   "source": [
    "## Question 2\n",
    "Write a program which can compute the factorial of a given numbers.The results should be printed in a comma-separated sequence on a single line.Suppose the following input is supplied to the program: 8 Then, the output should be:40320"
   ]
  },
  {
   "cell_type": "code",
   "execution_count": 39,
   "id": "b09be1e8-0df8-4a2f-bc16-a42673f62df9",
   "metadata": {},
   "outputs": [
    {
     "name": "stdout",
     "output_type": "stream",
     "text": [
      "enter number for factorial\n"
     ]
    },
    {
     "name": "stdin",
     "output_type": "stream",
     "text": [
      " 10\n"
     ]
    },
    {
     "name": "stdout",
     "output_type": "stream",
     "text": [
      "3628800\n"
     ]
    }
   ],
   "source": [
    "#method-1 for loop/while loop\n",
    "print(\"enter number for factorial\")\n",
    "num = int(input())\n",
    "f=1\n",
    "for i in range(1,num+1):\n",
    "    f=f*i\n",
    "print(f)"
   ]
  },
  {
   "cell_type": "code",
   "execution_count": 40,
   "id": "c286d954-fa89-4c10-82d6-ff2180876986",
   "metadata": {},
   "outputs": [
    {
     "name": "stdout",
     "output_type": "stream",
     "text": [
      "enter number for factorial\n"
     ]
    },
    {
     "name": "stdin",
     "output_type": "stream",
     "text": [
      " 10\n"
     ]
    },
    {
     "name": "stdout",
     "output_type": "stream",
     "text": [
      "3628800\n"
     ]
    }
   ],
   "source": [
    "#method-2 recursion\n",
    "f=1;\n",
    "def fact(num):\n",
    "    if(num==0):\n",
    "        return 1;\n",
    "    else:\n",
    "        return num*fact(num-1);\n",
    "print(\"enter number for factorial\")\n",
    "num = int(input())\n",
    "print(fact(num))"
   ]
  },
  {
   "cell_type": "code",
   "execution_count": 50,
   "id": "2356e61c-fe34-49c3-ba7b-1164c2e90694",
   "metadata": {},
   "outputs": [
    {
     "name": "stdout",
     "output_type": "stream",
     "text": [
      "enter number for factorial\n"
     ]
    },
    {
     "name": "stdin",
     "output_type": "stream",
     "text": [
      " 12\n"
     ]
    },
    {
     "name": "stdout",
     "output_type": "stream",
     "text": [
      "479001600\n"
     ]
    },
    {
     "data": {
      "text/plain": [
       "\"Lambda functions are super useful when you need to:\\n    Pass a simple function to another function (like when sorting or filtering lists)\\n    Create a quick function without all the ceremony of defining a full function\\n    Write cleaner code for simple operations\\n    They're especially handy with functions like map(), filter(), and reduce() which need other functions as inputs. For example, to get all even numbers from a list:\""
      ]
     },
     "execution_count": 50,
     "metadata": {},
     "output_type": "execute_result"
    }
   ],
   "source": [
    "#method-3\n",
    "shortFact = lambda x: 1 if x <= 1 else x*shortFact(x-1)\n",
    "print(\"enter number for factorial\")\n",
    "num = int(input())\n",
    "print(shortFact(num))\n",
    "#Lambda functions are super useful when you need to:\n",
    " #   Pass a simple function to another function (like when sorting or filtering lists)\n",
    "  #  Create a quick function without all the ceremony of defining a full function\n",
    "   # Write cleaner code for simple operations\n",
    "    #They're especially handy with functions like map(), filter(), and reduce() which need other functions as inputs. For example, to get all even numbers from a list:\n",
    "#even_numbers = list(filter(lambda x: x % 2 == 0, [1, 2, 3, 4, 5]))\n",
    "# Result: [2, 4]"
   ]
  },
  {
   "cell_type": "markdown",
   "id": "e98100e5-c9f7-494f-9e39-64207ccfca39",
   "metadata": {},
   "source": [
    "## Question 3\n",
    "With a given integral number n, write a program to generate a dictionary that contains (i, i x i) such that is an integral number between 1 and n (both included). and then the program should print the dictionary.Suppose the following input is supplied to the program: 8\n",
    "{1: 1, 2: 4, 3: 9, 4: 16, 5: 25, 6: 36, 7: 49, 8: 64}\n"
   ]
  },
  {
   "cell_type": "code",
   "execution_count": 47,
   "id": "6f017313-dc77-4a30-9515-8e701af97ce6",
   "metadata": {},
   "outputs": [
    {
     "name": "stdout",
     "output_type": "stream",
     "text": [
      "enter number\n"
     ]
    },
    {
     "name": "stdin",
     "output_type": "stream",
     "text": [
      " 12\n"
     ]
    },
    {
     "name": "stdout",
     "output_type": "stream",
     "text": [
      "{1: 1, 2: 4, 3: 9, 4: 16, 5: 25, 6: 36, 7: 49, 8: 64, 9: 81, 10: 100, 11: 121, 12: 144}\n"
     ]
    }
   ],
   "source": [
    "print(\"enter number\")\n",
    "num = int(input())\n",
    "print(dict((i,i*i) for i in range(1,num+1)))\n"
   ]
  },
  {
   "cell_type": "markdown",
   "id": "d68068c2-1e91-4aa9-9f35-8b485e1cf32f",
   "metadata": {},
   "source": [
    "\n",
    "# \n",
    "\n",
    "---\n",
    "\n",
    "# Python Dictionary Basics\n",
    "\n",
    "A dictionary in Python is a collection of key-value pairs that allows efficient data storage and retrieval. Unlike lists or tuples which use numeric indices, dictionaries use keys to access their corresponding values.\n",
    "\n",
    "## Creating a Dictionary\n",
    "\n",
    "There are several ways to create a dictionary:\n",
    "\n",
    "### Using Curly Braces\n",
    "\n",
    "```python\n",
    "employee = {\"name\": \"Alice\", \"age\": 30, \"role\": \"Engineer\"}\n",
    "```\n",
    "\n",
    "\n",
    "### Using dict() Constructor\n",
    "\n",
    "```python\n",
    "employee = dict(name=\"Alice\", age=30, role=\"Engineer\")\n",
    "```\n",
    "\n",
    "\n",
    "### From a List of Tuples\n",
    "\n",
    "```python\n",
    "pairs = [(\"name\", \"Bob\"), (\"age\", 25), (\"city\", \"Los Angeles\")]\n",
    "person = dict(pairs)\n",
    "```\n",
    "\n",
    "\n",
    "### Empty Dictionary\n",
    "\n",
    "```python\n",
    "empty_dict = {}\n",
    "# or\n",
    "empty_dict = dict()\n",
    "```\n",
    "\n",
    "\n",
    "## Accessing Values\n",
    "\n",
    "You can access dictionary values using their keys:\n",
    "\n",
    "```python\n",
    "print(employee[\"name\"])  # Outputs: Alice\n",
    "\n",
    "# Using get() method (safer if key might not exist)\n",
    "print(employee.get(\"email\", \"Not available\"))  # Outputs: Not available\n",
    "```\n",
    "\n",
    "\n",
    "## Modifying Dictionaries\n",
    "\n",
    "Dictionaries are mutable, meaning you can add, update, or remove key-value pairs:\n",
    "\n",
    "```python\n",
    "# Adding a new key-value pair\n",
    "employee[\"email\"] = \"alice@example.com\"\n",
    "\n",
    "# Updating an existing value\n",
    "employee[\"age\"] = 31\n",
    "\n",
    "# Removing a key-value pair\n",
    "del employee[\"role\"]\n",
    "```\n",
    "\n",
    "\n",
    "## Common Dictionary Methods\n",
    "\n",
    "| Method | Description |\n",
    "| :-- | :-- |\n",
    "| clear() | Removes all items from the dictionary |\n",
    "| copy() | Returns a shallow copy of the dictionary |\n",
    "| get(key, default=None) | Returns the value for a key, or default if key doesn't exist |\n",
    "| items() | Returns a view object of all key-value pairs as tuples |\n",
    "| keys() | Returns a view object of all keys |\n",
    "| values() | Returns a view object of all values |\n",
    "| pop(key) | Removes and returns the value for the specified key |\n",
    "| update(dict2) | Adds dictionary dict2's key-values to the dictionary |\n",
    "\n",
    "## Iterating Through Dictionaries\n",
    "\n",
    "```python\n",
    "# Iterating through keys\n",
    "for key in employee:\n",
    "    print(key)\n",
    "\n",
    "# Iterating through values\n",
    "for value in employee.values():\n",
    "    print(value)\n",
    "\n",
    "# Iterating through key-value pairs\n",
    "for key, value in employee.items():\n",
    "    print(f\"{key}: {value}\")\n",
    "```\n",
    "\n",
    "\n",
    "## Nested Dictionaries\n",
    "\n",
    "Dictionaries can contain other dictionaries as values:\n",
    "\n",
    "```python\n",
    "users = {\n",
    "    \"user1\": {\"name\": \"Alice\", \"age\": 30},\n",
    "    \"user2\": {\"name\": \"Bob\", \"age\": 25}\n",
    "}\n",
    "\n",
    "print(users[\"user1\"][\"name\"])  # Outputs: Alice\n",
    "```\n",
    "\n",
    "Dictionaries are extremely versatile data structures in Python and are commonly used for configuration settings, JSON data handling, and many other applications where key-value relationships are important.\n",
    "\n",
    "<div style=\"text-align: center\">⁂</div>\n",
    "\n",
    "[^1]: https://www.tutorialspoint.com/python/python_dictionary.htm\n",
    "\n",
    "[^2]: https://mimo.org/glossary/python/dictionary-dict-function\n",
    "\n",
    "[^3]: https://www.programiz.com/python-programming/dictionary\n",
    "\n",
    "[^4]: https://developers.google.com/edu/python/dict-files\n",
    "\n",
    "[^5]: https://www.youtube.com/watch?v=daefaLgNkw0\n",
    "\n",
    "[^6]: https://www.codecademy.com/learn/dscp-python-fundamentals/modules/dscp-python-dictionaries/cheatsheet\n",
    "\n",
    "[^7]: https://realpython.com/python-dicts/\n",
    "\n",
    "[^8]: https://docs.python.org/3/tutorial/datastructures.html\n",
    "\n",
    "[^9]: https://www.dataquest.io/blog/python-dictionaries/\n",
    "\n"
   ]
  },
  {
   "cell_type": "code",
   "execution_count": null,
   "id": "490959d6-fc48-4bfd-9c34-f7cdc10ada7b",
   "metadata": {},
   "outputs": [],
   "source": []
  }
 ],
 "metadata": {
  "kernelspec": {
   "display_name": "Python (ml_env)",
   "language": "python",
   "name": "ml_env"
  },
  "language_info": {
   "codemirror_mode": {
    "name": "ipython",
    "version": 3
   },
   "file_extension": ".py",
   "mimetype": "text/x-python",
   "name": "python",
   "nbconvert_exporter": "python",
   "pygments_lexer": "ipython3",
   "version": "3.11.7"
  }
 },
 "nbformat": 4,
 "nbformat_minor": 5
}
