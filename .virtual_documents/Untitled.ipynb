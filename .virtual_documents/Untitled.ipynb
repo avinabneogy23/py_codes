


#method-1
list =[]
for num in range(2000,3201):
    if((num % 7 == 0) and (num % 5 != 0)):
        list.append(num)
#The range function in python is exclusive of upper value in range so if you want a number between a and b use ranage(a,b+1)
print(list)



#method-2
for num in range(2000,3201):
    if((num % 7 == 0) and (num % 5 != 0)):
        print(num,end=',')


#method 3
print(*(num for num in range(2000,3201) if (num % 7 == 0) and (num % 5 != 0)),sep=',')

#Key Benefits

    #Memory Efficiency: Generator expressions generate values on demand rather than creating the entire collection at once, making them ideal for large datasets.

    #Lazy Evaluation: Values are computed only when needed, not in advance.

    #Performance: They're highly performant for sequential data processing






#method-1 for loop/while loop
print("enter number for factorial")
num = int(input())
f=1
for i in range(1,num+1):
    f=f*i
print(f)


#method-2 recursion
f=1;
def fact(num):
    if(num==0):
        return 1;
    else:
        return num*fact(num-1);
print("enter number for factorial")
num = int(input())
print(fact(num))


#method-3
shortFact = lambda x: 1 if x <= 1 else x*shortFact(x-1)
print("enter number for factorial")
num = int(input())
print(shortFact(num))
#Lambda functions are super useful when you need to:
 #   Pass a simple function to another function (like when sorting or filtering lists)
  #  Create a quick function without all the ceremony of defining a full function
   # Write cleaner code for simple operations
    #They're especially handy with functions like map(), filter(), and reduce() which need other functions as inputs. For example, to get all even numbers from a list:
#even_numbers = list(filter(lambda x: x % 2 == 0, [1, 2, 3, 4, 5]))
# Result: [2, 4]





print("enter number")
num = int(input())
print(dict((i,i*i) for i in range(1,num+1)))







